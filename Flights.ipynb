{
 "cells": [
  {
   "cell_type": "markdown",
   "metadata": {},
   "source": [
    "This analysis is part of **Microsoft Course for Data Scientist**. In this notebook the aim is to find the reason for delays in departures or arrival of a flight by answering questions.\n",
    "\n",
    "I couldn't find the dataset link, the information that I have is that this is a real-world dataset containing flights data from the US Department of Transportation.\n",
    "\n"
   ]
  },
  {
   "cell_type": "code",
   "execution_count": 1,
   "metadata": {},
   "outputs": [],
   "source": [
    "import pandas as pd \n",
    "import seaborn as sns\n",
    "from matplotlib import pyplot as plt\n",
    "\n"
   ]
  },
  {
   "cell_type": "code",
   "execution_count": 375,
   "metadata": {},
   "outputs": [],
   "source": [
    "flights = pd.read_csv('flights.csv')"
   ]
  },
  {
   "cell_type": "code",
   "execution_count": 376,
   "metadata": {},
   "outputs": [
    {
     "data": {
      "text/html": [
       "<div>\n",
       "<style scoped>\n",
       "    .dataframe tbody tr th:only-of-type {\n",
       "        vertical-align: middle;\n",
       "    }\n",
       "\n",
       "    .dataframe tbody tr th {\n",
       "        vertical-align: top;\n",
       "    }\n",
       "\n",
       "    .dataframe thead th {\n",
       "        text-align: right;\n",
       "    }\n",
       "</style>\n",
       "<table border=\"1\" class=\"dataframe\">\n",
       "  <thead>\n",
       "    <tr style=\"text-align: right;\">\n",
       "      <th></th>\n",
       "      <th>Year</th>\n",
       "      <th>Month</th>\n",
       "      <th>DayofMonth</th>\n",
       "      <th>DayOfWeek</th>\n",
       "      <th>Carrier</th>\n",
       "      <th>OriginAirportID</th>\n",
       "      <th>OriginAirportName</th>\n",
       "      <th>OriginCity</th>\n",
       "      <th>OriginState</th>\n",
       "      <th>DestAirportID</th>\n",
       "      <th>DestAirportName</th>\n",
       "      <th>DestCity</th>\n",
       "      <th>DestState</th>\n",
       "      <th>CRSDepTime</th>\n",
       "      <th>DepDelay</th>\n",
       "      <th>DepDel15</th>\n",
       "      <th>CRSArrTime</th>\n",
       "      <th>ArrDelay</th>\n",
       "      <th>ArrDel15</th>\n",
       "      <th>Cancelled</th>\n",
       "    </tr>\n",
       "  </thead>\n",
       "  <tbody>\n",
       "    <tr>\n",
       "      <th>246480</th>\n",
       "      <td>2013</td>\n",
       "      <td>8</td>\n",
       "      <td>16</td>\n",
       "      <td>5</td>\n",
       "      <td>US</td>\n",
       "      <td>14100</td>\n",
       "      <td>Philadelphia International</td>\n",
       "      <td>Philadelphia</td>\n",
       "      <td>PA</td>\n",
       "      <td>11298</td>\n",
       "      <td>Dallas/Fort Worth International</td>\n",
       "      <td>Dallas/Fort Worth</td>\n",
       "      <td>TX</td>\n",
       "      <td>1425</td>\n",
       "      <td>-3</td>\n",
       "      <td>0.0</td>\n",
       "      <td>1647</td>\n",
       "      <td>1.0</td>\n",
       "      <td>0.0</td>\n",
       "      <td>0.0</td>\n",
       "    </tr>\n",
       "    <tr>\n",
       "      <th>246481</th>\n",
       "      <td>2013</td>\n",
       "      <td>7</td>\n",
       "      <td>24</td>\n",
       "      <td>3</td>\n",
       "      <td>AS</td>\n",
       "      <td>12173</td>\n",
       "      <td>Honolulu International</td>\n",
       "      <td>Honolulu</td>\n",
       "      <td>HI</td>\n",
       "      <td>14831</td>\n",
       "      <td>Norman Y. Mineta San Jose International</td>\n",
       "      <td>San Jose</td>\n",
       "      <td>CA</td>\n",
       "      <td>1310</td>\n",
       "      <td>-5</td>\n",
       "      <td>0.0</td>\n",
       "      <td>2111</td>\n",
       "      <td>-9.0</td>\n",
       "      <td>0.0</td>\n",
       "      <td>0.0</td>\n",
       "    </tr>\n",
       "    <tr>\n",
       "      <th>246482</th>\n",
       "      <td>2013</td>\n",
       "      <td>8</td>\n",
       "      <td>3</td>\n",
       "      <td>6</td>\n",
       "      <td>EV</td>\n",
       "      <td>14492</td>\n",
       "      <td>Raleigh-Durham International</td>\n",
       "      <td>Raleigh/Durham</td>\n",
       "      <td>NC</td>\n",
       "      <td>11618</td>\n",
       "      <td>Newark Liberty International</td>\n",
       "      <td>Newark</td>\n",
       "      <td>NJ</td>\n",
       "      <td>605</td>\n",
       "      <td>-2</td>\n",
       "      <td>0.0</td>\n",
       "      <td>740</td>\n",
       "      <td>-5.0</td>\n",
       "      <td>0.0</td>\n",
       "      <td>0.0</td>\n",
       "    </tr>\n",
       "    <tr>\n",
       "      <th>246483</th>\n",
       "      <td>2013</td>\n",
       "      <td>4</td>\n",
       "      <td>4</td>\n",
       "      <td>4</td>\n",
       "      <td>F9</td>\n",
       "      <td>14747</td>\n",
       "      <td>Seattle/Tacoma International</td>\n",
       "      <td>Seattle</td>\n",
       "      <td>WA</td>\n",
       "      <td>11292</td>\n",
       "      <td>Denver International</td>\n",
       "      <td>Denver</td>\n",
       "      <td>CO</td>\n",
       "      <td>1044</td>\n",
       "      <td>-3</td>\n",
       "      <td>0.0</td>\n",
       "      <td>1415</td>\n",
       "      <td>-8.0</td>\n",
       "      <td>0.0</td>\n",
       "      <td>0.0</td>\n",
       "    </tr>\n",
       "    <tr>\n",
       "      <th>246484</th>\n",
       "      <td>2013</td>\n",
       "      <td>6</td>\n",
       "      <td>4</td>\n",
       "      <td>2</td>\n",
       "      <td>AA</td>\n",
       "      <td>12478</td>\n",
       "      <td>John F. Kennedy International</td>\n",
       "      <td>New York</td>\n",
       "      <td>NY</td>\n",
       "      <td>14679</td>\n",
       "      <td>San Diego International</td>\n",
       "      <td>San Diego</td>\n",
       "      <td>CA</td>\n",
       "      <td>1725</td>\n",
       "      <td>-3</td>\n",
       "      <td>0.0</td>\n",
       "      <td>2</td>\n",
       "      <td>NaN</td>\n",
       "      <td>NaN</td>\n",
       "      <td>NaN</td>\n",
       "    </tr>\n",
       "  </tbody>\n",
       "</table>\n",
       "</div>"
      ],
      "text/plain": [
       "        Year  Month  DayofMonth  DayOfWeek Carrier  OriginAirportID  \\\n",
       "246480  2013      8          16          5      US            14100   \n",
       "246481  2013      7          24          3      AS            12173   \n",
       "246482  2013      8           3          6      EV            14492   \n",
       "246483  2013      4           4          4      F9            14747   \n",
       "246484  2013      6           4          2      AA            12478   \n",
       "\n",
       "                    OriginAirportName      OriginCity OriginState  \\\n",
       "246480     Philadelphia International    Philadelphia          PA   \n",
       "246481         Honolulu International        Honolulu          HI   \n",
       "246482   Raleigh-Durham International  Raleigh/Durham          NC   \n",
       "246483   Seattle/Tacoma International         Seattle          WA   \n",
       "246484  John F. Kennedy International        New York          NY   \n",
       "\n",
       "        DestAirportID                          DestAirportName  \\\n",
       "246480          11298          Dallas/Fort Worth International   \n",
       "246481          14831  Norman Y. Mineta San Jose International   \n",
       "246482          11618             Newark Liberty International   \n",
       "246483          11292                     Denver International   \n",
       "246484          14679                  San Diego International   \n",
       "\n",
       "                 DestCity DestState  CRSDepTime  DepDelay  DepDel15  \\\n",
       "246480  Dallas/Fort Worth        TX        1425        -3       0.0   \n",
       "246481           San Jose        CA        1310        -5       0.0   \n",
       "246482             Newark        NJ         605        -2       0.0   \n",
       "246483             Denver        CO        1044        -3       0.0   \n",
       "246484          San Diego        CA        1725        -3       0.0   \n",
       "\n",
       "        CRSArrTime  ArrDelay  ArrDel15  Cancelled  \n",
       "246480        1647       1.0       0.0        0.0  \n",
       "246481        2111      -9.0       0.0        0.0  \n",
       "246482         740      -5.0       0.0        0.0  \n",
       "246483        1415      -8.0       0.0        0.0  \n",
       "246484           2       NaN       NaN        NaN  "
      ]
     },
     "execution_count": 376,
     "metadata": {},
     "output_type": "execute_result"
    }
   ],
   "source": [
    "flights.tail()"
   ]
  },
  {
   "cell_type": "markdown",
   "metadata": {},
   "source": [
    "The dataset contains observations of US domestic flights in 2013, and consists of the following fields:\n",
    "\n",
    "- **Year**: The year of the flight (all records are from 2013)\n",
    "- **Month**: The month of the flight\n",
    "- **DayofMonth**: The day of the month on which the flight departed\n",
    "- **DayOfWeek**: The day of the week on which the flight departed - from 1 (Monday) to 7 (Sunday)\n",
    "- **Carrier**: The two-letter abbreviation for the airline.\n",
    "- **OriginAirportID**: A unique numeric identifier for the departure aiport\n",
    "- **OriginAirportName**: The full name of the departure airport\n",
    "- **OriginCity**: The departure airport city\n",
    "- **OriginState**: The departure airport state\n",
    "- **DestAirportID**: A unique numeric identifier for the destination aiport\n",
    "- **DestAirportName**: The full name of the destination airport\n",
    "- **DestCity**: The destination airport city\n",
    "- **DestState**: The destination airport state\n",
    "- **CRSDepTime**: The scheduled departure time\n",
    "- **DepDelay**: The number of minutes departure was delayed (flight that left ahead of schedule have a negative value)\n",
    "- **DelDelay15**: A binary indicator that departure was delayed by more than 15 minutes (and therefore considered \"late\")\n",
    "- **CRSArrTime**: The scheduled arrival time\n",
    "- **ArrDelay**: The number of minutes arrival was delayed (flight that arrived ahead of schedule have a negative value)\n",
    "- **ArrDelay15**: A binary indicator that arrival was delayed by more than 15 minutes (and therefore considered \"late\")\n",
    "- **Cancelled**: A binary indicator that the flight was cancelled"
   ]
  },
  {
   "cell_type": "markdown",
   "metadata": {},
   "source": [
    "## Checking null values"
   ]
  },
  {
   "cell_type": "code",
   "execution_count": 377,
   "metadata": {},
   "outputs": [
    {
     "data": {
      "text/plain": [
       "Year                    0\n",
       "Month                   0\n",
       "DayofMonth              0\n",
       "DayOfWeek               0\n",
       "Carrier                 0\n",
       "OriginAirportID         0\n",
       "OriginAirportName       0\n",
       "OriginCity              0\n",
       "OriginState             0\n",
       "DestAirportID           0\n",
       "DestAirportName         0\n",
       "DestCity                0\n",
       "DestState               0\n",
       "CRSDepTime              0\n",
       "DepDelay                0\n",
       "DepDel15             2499\n",
       "CRSArrTime              0\n",
       "ArrDelay                1\n",
       "ArrDel15                1\n",
       "Cancelled               1\n",
       "dtype: int64"
      ]
     },
     "execution_count": 377,
     "metadata": {},
     "output_type": "execute_result"
    }
   ],
   "source": [
    "flights.isnull().sum()"
   ]
  },
  {
   "cell_type": "markdown",
   "metadata": {},
   "source": [
    "We have 4 columns with null values: **DepDel15**, **ArrDelay**, **ArrDel15** and **Cancelled**. Since the last 3 columns have only 1 row with missing value and our file has 246848 rows, I will delete these null values given that it'll not impact our analysis.\n",
    "\n",
    "The **DepDel15** column has 2499 rows with null values that approximately represents 1% of our data. To me this is 'Ok' to also delete these rows.\n",
    "\n"
   ]
  },
  {
   "cell_type": "code",
   "execution_count": 378,
   "metadata": {},
   "outputs": [],
   "source": [
    "flights = flights.dropna()"
   ]
  },
  {
   "cell_type": "code",
   "execution_count": 379,
   "metadata": {},
   "outputs": [
    {
     "data": {
      "text/plain": [
       "Year                 0\n",
       "Month                0\n",
       "DayofMonth           0\n",
       "DayOfWeek            0\n",
       "Carrier              0\n",
       "OriginAirportID      0\n",
       "OriginAirportName    0\n",
       "OriginCity           0\n",
       "OriginState          0\n",
       "DestAirportID        0\n",
       "DestAirportName      0\n",
       "DestCity             0\n",
       "DestState            0\n",
       "CRSDepTime           0\n",
       "DepDelay             0\n",
       "DepDel15             0\n",
       "CRSArrTime           0\n",
       "ArrDelay             0\n",
       "ArrDel15             0\n",
       "Cancelled            0\n",
       "dtype: int64"
      ]
     },
     "execution_count": 379,
     "metadata": {},
     "output_type": "execute_result"
    }
   ],
   "source": [
    "flights.isnull().sum()"
   ]
  },
  {
   "cell_type": "markdown",
   "metadata": {},
   "source": [
    "## Checking for outliers"
   ]
  },
  {
   "cell_type": "markdown",
   "metadata": {},
   "source": [
    "There are only two columns that might provide us with outliers: DepDelay and ArrDelay.\n"
   ]
  },
  {
   "cell_type": "code",
   "execution_count": 380,
   "metadata": {},
   "outputs": [
    {
     "name": "stdout",
     "output_type": "stream",
     "text": [
      "------- Outliers for ArrDelay---------\n"
     ]
    },
    {
     "data": {
      "text/plain": [
       "count    243985.000000\n",
       "mean          6.564190\n",
       "std          38.277549\n",
       "min         -75.000000\n",
       "25%         -11.000000\n",
       "50%          -3.000000\n",
       "75%          10.000000\n",
       "max        1440.000000\n",
       "Name: ArrDelay, dtype: float64"
      ]
     },
     "execution_count": 380,
     "metadata": {},
     "output_type": "execute_result"
    },
    {
     "data": {
      "image/png": "[encoded data removed]",
      "text/plain": [
       "<Figure size 432x288 with 1 Axes>"
      ]
     },
     "metadata": {
      "needs_background": "light"
     },
     "output_type": "display_data"
    }
   ],
   "source": [
    "sns.boxplot(x=flights['ArrDelay'])\n",
    "\n",
    "print(\"------- Outliers for ArrDelay---------\")\n",
    "\n",
    "flights['ArrDelay'].describe()"
   ]
  },
  {
   "cell_type": "code",
   "execution_count": 381,
   "metadata": {},
   "outputs": [
    {
     "name": "stdout",
     "output_type": "stream",
     "text": [
      "------- Outliers for DepDelay---------\n"
     ]
    },
    {
     "data": {
      "text/plain": [
       "count    243985.000000\n",
       "mean         10.456323\n",
       "std          35.667803\n",
       "min         -63.000000\n",
       "25%          -4.000000\n",
       "50%          -1.000000\n",
       "75%           9.000000\n",
       "max        1425.000000\n",
       "Name: DepDelay, dtype: float64"
      ]
     },
     "execution_count": 381,
     "metadata": {},
     "output_type": "execute_result"
    },
    {
     "data": {
      "image/png": "[encoded data removed]",
      "text/plain": [
       "<Figure size 432x288 with 1 Axes>"
      ]
     },
     "metadata": {
      "needs_background": "light"
     },
     "output_type": "display_data"
    }
   ],
   "source": [
    "sns.boxplot(x=flights['DepDelay'])\n",
    "\n",
    "print(\"------- Outliers for DepDelay---------\")\n",
    "\n",
    "flights['DepDelay'].describe()"
   ]
  },
  {
   "cell_type": "markdown",
   "metadata": {},
   "source": [
    "We just encountered many outliers for both columns. We can see this clearly in **DepDelay** by checking the 75th percentile, which is 9 whereas the max value is 1425. The same happened with **ArrDelay**. \n",
    "\n"
   ]
  },
  {
   "cell_type": "code",
   "execution_count": 382,
   "metadata": {},
   "outputs": [
    {
     "data": {
      "text/html": [
       "<div>\n",
       "<style scoped>\n",
       "    .dataframe tbody tr th:only-of-type {\n",
       "        vertical-align: middle;\n",
       "    }\n",
       "\n",
       "    .dataframe tbody tr th {\n",
       "        vertical-align: top;\n",
       "    }\n",
       "\n",
       "    .dataframe thead th {\n",
       "        text-align: right;\n",
       "    }\n",
       "</style>\n",
       "<table border=\"1\" class=\"dataframe\">\n",
       "  <thead>\n",
       "    <tr style=\"text-align: right;\">\n",
       "      <th></th>\n",
       "      <th>Year</th>\n",
       "      <th>Month</th>\n",
       "      <th>DayofMonth</th>\n",
       "      <th>DayOfWeek</th>\n",
       "      <th>OriginAirportID</th>\n",
       "      <th>DestAirportID</th>\n",
       "      <th>CRSDepTime</th>\n",
       "      <th>DepDelay</th>\n",
       "      <th>DepDel15</th>\n",
       "      <th>CRSArrTime</th>\n",
       "      <th>ArrDelay</th>\n",
       "      <th>ArrDel15</th>\n",
       "      <th>Cancelled</th>\n",
       "    </tr>\n",
       "  </thead>\n",
       "  <tbody>\n",
       "    <tr>\n",
       "      <th>count</th>\n",
       "      <td>243985.0</td>\n",
       "      <td>243985.000000</td>\n",
       "      <td>243985.000000</td>\n",
       "      <td>243985.000000</td>\n",
       "      <td>243985.000000</td>\n",
       "      <td>243985.000000</td>\n",
       "      <td>243985.000000</td>\n",
       "      <td>243985.000000</td>\n",
       "      <td>243985.000000</td>\n",
       "      <td>243985.000000</td>\n",
       "      <td>243985.000000</td>\n",
       "      <td>243985.000000</td>\n",
       "      <td>243985.000000</td>\n",
       "    </tr>\n",
       "    <tr>\n",
       "      <th>mean</th>\n",
       "      <td>2013.0</td>\n",
       "      <td>6.983241</td>\n",
       "      <td>15.806607</td>\n",
       "      <td>3.901019</td>\n",
       "      <td>12744.521548</td>\n",
       "      <td>12740.009722</td>\n",
       "      <td>1323.901154</td>\n",
       "      <td>10.456323</td>\n",
       "      <td>0.201250</td>\n",
       "      <td>1504.513146</td>\n",
       "      <td>6.564190</td>\n",
       "      <td>0.208062</td>\n",
       "      <td>0.000586</td>\n",
       "    </tr>\n",
       "    <tr>\n",
       "      <th>std</th>\n",
       "      <td>0.0</td>\n",
       "      <td>1.983687</td>\n",
       "      <td>8.804148</td>\n",
       "      <td>1.989310</td>\n",
       "      <td>1502.617706</td>\n",
       "      <td>1503.534004</td>\n",
       "      <td>470.614755</td>\n",
       "      <td>35.667803</td>\n",
       "      <td>0.400935</td>\n",
       "      <td>493.113297</td>\n",
       "      <td>38.277549</td>\n",
       "      <td>0.405922</td>\n",
       "      <td>0.024202</td>\n",
       "    </tr>\n",
       "    <tr>\n",
       "      <th>min</th>\n",
       "      <td>2013.0</td>\n",
       "      <td>4.000000</td>\n",
       "      <td>1.000000</td>\n",
       "      <td>1.000000</td>\n",
       "      <td>10140.000000</td>\n",
       "      <td>10140.000000</td>\n",
       "      <td>1.000000</td>\n",
       "      <td>-63.000000</td>\n",
       "      <td>0.000000</td>\n",
       "      <td>1.000000</td>\n",
       "      <td>-75.000000</td>\n",
       "      <td>0.000000</td>\n",
       "      <td>0.000000</td>\n",
       "    </tr>\n",
       "    <tr>\n",
       "      <th>25%</th>\n",
       "      <td>2013.0</td>\n",
       "      <td>5.000000</td>\n",
       "      <td>8.000000</td>\n",
       "      <td>2.000000</td>\n",
       "      <td>11292.000000</td>\n",
       "      <td>11292.000000</td>\n",
       "      <td>920.000000</td>\n",
       "      <td>-4.000000</td>\n",
       "      <td>0.000000</td>\n",
       "      <td>1118.000000</td>\n",
       "      <td>-11.000000</td>\n",
       "      <td>0.000000</td>\n",
       "      <td>0.000000</td>\n",
       "    </tr>\n",
       "    <tr>\n",
       "      <th>50%</th>\n",
       "      <td>2013.0</td>\n",
       "      <td>7.000000</td>\n",
       "      <td>16.000000</td>\n",
       "      <td>4.000000</td>\n",
       "      <td>12892.000000</td>\n",
       "      <td>12892.000000</td>\n",
       "      <td>1317.000000</td>\n",
       "      <td>-1.000000</td>\n",
       "      <td>0.000000</td>\n",
       "      <td>1527.000000</td>\n",
       "      <td>-3.000000</td>\n",
       "      <td>0.000000</td>\n",
       "      <td>0.000000</td>\n",
       "    </tr>\n",
       "    <tr>\n",
       "      <th>75%</th>\n",
       "      <td>2013.0</td>\n",
       "      <td>9.000000</td>\n",
       "      <td>23.000000</td>\n",
       "      <td>6.000000</td>\n",
       "      <td>14057.000000</td>\n",
       "      <td>14057.000000</td>\n",
       "      <td>1721.000000</td>\n",
       "      <td>9.000000</td>\n",
       "      <td>0.000000</td>\n",
       "      <td>1917.000000</td>\n",
       "      <td>10.000000</td>\n",
       "      <td>0.000000</td>\n",
       "      <td>0.000000</td>\n",
       "    </tr>\n",
       "    <tr>\n",
       "      <th>max</th>\n",
       "      <td>2013.0</td>\n",
       "      <td>10.000000</td>\n",
       "      <td>31.000000</td>\n",
       "      <td>7.000000</td>\n",
       "      <td>15376.000000</td>\n",
       "      <td>15376.000000</td>\n",
       "      <td>2359.000000</td>\n",
       "      <td>1425.000000</td>\n",
       "      <td>1.000000</td>\n",
       "      <td>2359.000000</td>\n",
       "      <td>1440.000000</td>\n",
       "      <td>1.000000</td>\n",
       "      <td>1.000000</td>\n",
       "    </tr>\n",
       "  </tbody>\n",
       "</table>\n",
       "</div>"
      ],
      "text/plain": [
       "           Year          Month     DayofMonth      DayOfWeek  OriginAirportID  \\\n",
       "count  243985.0  243985.000000  243985.000000  243985.000000    243985.000000   \n",
       "mean     2013.0       6.983241      15.806607       3.901019     12744.521548   \n",
       "std         0.0       1.983687       8.804148       1.989310      1502.617706   \n",
       "min      2013.0       4.000000       1.000000       1.000000     10140.000000   \n",
       "25%      2013.0       5.000000       8.000000       2.000000     11292.000000   \n",
       "50%      2013.0       7.000000      16.000000       4.000000     12892.000000   \n",
       "75%      2013.0       9.000000      23.000000       6.000000     14057.000000   \n",
       "max      2013.0      10.000000      31.000000       7.000000     15376.000000   \n",
       "\n",
       "       DestAirportID     CRSDepTime       DepDelay       DepDel15  \\\n",
       "count  243985.000000  243985.000000  243985.000000  243985.000000   \n",
       "mean    12740.009722    1323.901154      10.456323       0.201250   \n",
       "std      1503.534004     470.614755      35.667803       0.400935   \n",
       "min     10140.000000       1.000000     -63.000000       0.000000   \n",
       "25%     11292.000000     920.000000      -4.000000       0.000000   \n",
       "50%     12892.000000    1317.000000      -1.000000       0.000000   \n",
       "75%     14057.000000    1721.000000       9.000000       0.000000   \n",
       "max     15376.000000    2359.000000    1425.000000       1.000000   \n",
       "\n",
       "          CRSArrTime       ArrDelay       ArrDel15      Cancelled  \n",
       "count  243985.000000  243985.000000  243985.000000  243985.000000  \n",
       "mean     1504.513146       6.564190       0.208062       0.000586  \n",
       "std       493.113297      38.277549       0.405922       0.024202  \n",
       "min         1.000000     -75.000000       0.000000       0.000000  \n",
       "25%      1118.000000     -11.000000       0.000000       0.000000  \n",
       "50%      1527.000000      -3.000000       0.000000       0.000000  \n",
       "75%      1917.000000      10.000000       0.000000       0.000000  \n",
       "max      2359.000000    1440.000000       1.000000       1.000000  "
      ]
     },
     "execution_count": 382,
     "metadata": {},
     "output_type": "execute_result"
    }
   ],
   "source": [
    "flights.describe()"
   ]
  },
  {
   "cell_type": "code",
   "execution_count": 383,
   "metadata": {},
   "outputs": [
    {
     "name": "stdout",
     "output_type": "stream",
     "text": [
      "      DepDelay  ArrDelay\n",
      "0.75       9.0      10.0\n",
      "0.80      15.0      15.0\n",
      "0.85      23.0      23.0\n",
      "0.90      37.0      38.0\n"
     ]
    }
   ],
   "source": [
    "#Now I want to check the quantile distribuition to see where I will trim the data.\n",
    "\n",
    "quantile=[0.75, 0.8, 0.85, 0.9]\n",
    "col = ['DepDelay', 'ArrDelay']\n",
    "print(flights[col].quantile(quantile))\n",
    "    "
   ]
  },
  {
   "cell_type": "markdown",
   "metadata": {},
   "source": [
    "Now to the **negative** values of our columns. The minimum value for **DepDelay** is -63 whereas the 25th percentile is -4. By looking to **ArrDelay** we can see that 25th percentile it's -11 and the minimum value is -73."
   ]
  },
  {
   "cell_type": "code",
   "execution_count": 384,
   "metadata": {},
   "outputs": [
    {
     "name": "stdout",
     "output_type": "stream",
     "text": [
      "      DepDelay  ArrDelay\n",
      "0.05      -8.0     -23.0\n",
      "0.10      -7.0     -19.0\n",
      "0.15      -6.0     -16.0\n",
      "0.25      -4.0     -11.0\n"
     ]
    }
   ],
   "source": [
    "quantile=[0.05, 0.1, 0.15, 0.25]\n",
    "col = ['DepDelay', 'ArrDelay']\n",
    "print(flights[col].quantile(quantile))"
   ]
  },
  {
   "cell_type": "code",
   "execution_count": 385,
   "metadata": {},
   "outputs": [
    {
     "data": {
      "text/html": [
       "<div>\n",
       "<style scoped>\n",
       "    .dataframe tbody tr th:only-of-type {\n",
       "        vertical-align: middle;\n",
       "    }\n",
       "\n",
       "    .dataframe tbody tr th {\n",
       "        vertical-align: top;\n",
       "    }\n",
       "\n",
       "    .dataframe thead th {\n",
       "        text-align: right;\n",
       "    }\n",
       "</style>\n",
       "<table border=\"1\" class=\"dataframe\">\n",
       "  <thead>\n",
       "    <tr style=\"text-align: right;\">\n",
       "      <th></th>\n",
       "      <th>Year</th>\n",
       "      <th>Month</th>\n",
       "      <th>DayofMonth</th>\n",
       "      <th>DayOfWeek</th>\n",
       "      <th>OriginAirportID</th>\n",
       "      <th>DestAirportID</th>\n",
       "      <th>CRSDepTime</th>\n",
       "      <th>DepDelay</th>\n",
       "      <th>DepDel15</th>\n",
       "      <th>CRSArrTime</th>\n",
       "      <th>ArrDelay</th>\n",
       "      <th>ArrDel15</th>\n",
       "      <th>Cancelled</th>\n",
       "    </tr>\n",
       "  </thead>\n",
       "  <tbody>\n",
       "    <tr>\n",
       "      <th>count</th>\n",
       "      <td>243985.0</td>\n",
       "      <td>243985.000000</td>\n",
       "      <td>243985.000000</td>\n",
       "      <td>243985.000000</td>\n",
       "      <td>243985.000000</td>\n",
       "      <td>243985.000000</td>\n",
       "      <td>243985.000000</td>\n",
       "      <td>243985.000000</td>\n",
       "      <td>243985.000000</td>\n",
       "      <td>243985.000000</td>\n",
       "      <td>243985.000000</td>\n",
       "      <td>243985.000000</td>\n",
       "      <td>243985.000000</td>\n",
       "    </tr>\n",
       "    <tr>\n",
       "      <th>mean</th>\n",
       "      <td>2013.0</td>\n",
       "      <td>6.983241</td>\n",
       "      <td>15.806607</td>\n",
       "      <td>3.901019</td>\n",
       "      <td>12744.521548</td>\n",
       "      <td>12740.009722</td>\n",
       "      <td>1323.901154</td>\n",
       "      <td>10.456323</td>\n",
       "      <td>0.201250</td>\n",
       "      <td>1504.513146</td>\n",
       "      <td>6.564190</td>\n",
       "      <td>0.208062</td>\n",
       "      <td>0.000586</td>\n",
       "    </tr>\n",
       "    <tr>\n",
       "      <th>std</th>\n",
       "      <td>0.0</td>\n",
       "      <td>1.983687</td>\n",
       "      <td>8.804148</td>\n",
       "      <td>1.989310</td>\n",
       "      <td>1502.617706</td>\n",
       "      <td>1503.534004</td>\n",
       "      <td>470.614755</td>\n",
       "      <td>35.667803</td>\n",
       "      <td>0.400935</td>\n",
       "      <td>493.113297</td>\n",
       "      <td>38.277549</td>\n",
       "      <td>0.405922</td>\n",
       "      <td>0.024202</td>\n",
       "    </tr>\n",
       "    <tr>\n",
       "      <th>min</th>\n",
       "      <td>2013.0</td>\n",
       "      <td>4.000000</td>\n",
       "      <td>1.000000</td>\n",
       "      <td>1.000000</td>\n",
       "      <td>10140.000000</td>\n",
       "      <td>10140.000000</td>\n",
       "      <td>1.000000</td>\n",
       "      <td>-63.000000</td>\n",
       "      <td>0.000000</td>\n",
       "      <td>1.000000</td>\n",
       "      <td>-75.000000</td>\n",
       "      <td>0.000000</td>\n",
       "      <td>0.000000</td>\n",
       "    </tr>\n",
       "    <tr>\n",
       "      <th>25%</th>\n",
       "      <td>2013.0</td>\n",
       "      <td>5.000000</td>\n",
       "      <td>8.000000</td>\n",
       "      <td>2.000000</td>\n",
       "      <td>11292.000000</td>\n",
       "      <td>11292.000000</td>\n",
       "      <td>920.000000</td>\n",
       "      <td>-4.000000</td>\n",
       "      <td>0.000000</td>\n",
       "      <td>1118.000000</td>\n",
       "      <td>-11.000000</td>\n",
       "      <td>0.000000</td>\n",
       "      <td>0.000000</td>\n",
       "    </tr>\n",
       "    <tr>\n",
       "      <th>50%</th>\n",
       "      <td>2013.0</td>\n",
       "      <td>7.000000</td>\n",
       "      <td>16.000000</td>\n",
       "      <td>4.000000</td>\n",
       "      <td>12892.000000</td>\n",
       "      <td>12892.000000</td>\n",
       "      <td>1317.000000</td>\n",
       "      <td>-1.000000</td>\n",
       "      <td>0.000000</td>\n",
       "      <td>1527.000000</td>\n",
       "      <td>-3.000000</td>\n",
       "      <td>0.000000</td>\n",
       "      <td>0.000000</td>\n",
       "    </tr>\n",
       "    <tr>\n",
       "      <th>75%</th>\n",
       "      <td>2013.0</td>\n",
       "      <td>9.000000</td>\n",
       "      <td>23.000000</td>\n",
       "      <td>6.000000</td>\n",
       "      <td>14057.000000</td>\n",
       "      <td>14057.000000</td>\n",
       "      <td>1721.000000</td>\n",
       "      <td>9.000000</td>\n",
       "      <td>0.000000</td>\n",
       "      <td>1917.000000</td>\n",
       "      <td>10.000000</td>\n",
       "      <td>0.000000</td>\n",
       "      <td>0.000000</td>\n",
       "    </tr>\n",
       "    <tr>\n",
       "      <th>max</th>\n",
       "      <td>2013.0</td>\n",
       "      <td>10.000000</td>\n",
       "      <td>31.000000</td>\n",
       "      <td>7.000000</td>\n",
       "      <td>15376.000000</td>\n",
       "      <td>15376.000000</td>\n",
       "      <td>2359.000000</td>\n",
       "      <td>1425.000000</td>\n",
       "      <td>1.000000</td>\n",
       "      <td>2359.000000</td>\n",
       "      <td>1440.000000</td>\n",
       "      <td>1.000000</td>\n",
       "      <td>1.000000</td>\n",
       "    </tr>\n",
       "  </tbody>\n",
       "</table>\n",
       "</div>"
      ],
      "text/plain": [
       "           Year          Month     DayofMonth      DayOfWeek  OriginAirportID  \\\n",
       "count  243985.0  243985.000000  243985.000000  243985.000000    243985.000000   \n",
       "mean     2013.0       6.983241      15.806607       3.901019     12744.521548   \n",
       "std         0.0       1.983687       8.804148       1.989310      1502.617706   \n",
       "min      2013.0       4.000000       1.000000       1.000000     10140.000000   \n",
       "25%      2013.0       5.000000       8.000000       2.000000     11292.000000   \n",
       "50%      2013.0       7.000000      16.000000       4.000000     12892.000000   \n",
       "75%      2013.0       9.000000      23.000000       6.000000     14057.000000   \n",
       "max      2013.0      10.000000      31.000000       7.000000     15376.000000   \n",
       "\n",
       "       DestAirportID     CRSDepTime       DepDelay       DepDel15  \\\n",
       "count  243985.000000  243985.000000  243985.000000  243985.000000   \n",
       "mean    12740.009722    1323.901154      10.456323       0.201250   \n",
       "std      1503.534004     470.614755      35.667803       0.400935   \n",
       "min     10140.000000       1.000000     -63.000000       0.000000   \n",
       "25%     11292.000000     920.000000      -4.000000       0.000000   \n",
       "50%     12892.000000    1317.000000      -1.000000       0.000000   \n",
       "75%     14057.000000    1721.000000       9.000000       0.000000   \n",
       "max     15376.000000    2359.000000    1425.000000       1.000000   \n",
       "\n",
       "          CRSArrTime       ArrDelay       ArrDel15      Cancelled  \n",
       "count  243985.000000  243985.000000  243985.000000  243985.000000  \n",
       "mean     1504.513146       6.564190       0.208062       0.000586  \n",
       "std       493.113297      38.277549       0.405922       0.024202  \n",
       "min         1.000000     -75.000000       0.000000       0.000000  \n",
       "25%      1118.000000     -11.000000       0.000000       0.000000  \n",
       "50%      1527.000000      -3.000000       0.000000       0.000000  \n",
       "75%      1917.000000      10.000000       0.000000       0.000000  \n",
       "max      2359.000000    1440.000000       1.000000       1.000000  "
      ]
     },
     "execution_count": 385,
     "metadata": {},
     "output_type": "execute_result"
    }
   ],
   "source": [
    "flights.describe()"
   ]
  },
  {
   "cell_type": "code",
   "execution_count": 386,
   "metadata": {},
   "outputs": [
    {
     "data": {
      "text/html": [
       "<div>\n",
       "<style scoped>\n",
       "    .dataframe tbody tr th:only-of-type {\n",
       "        vertical-align: middle;\n",
       "    }\n",
       "\n",
       "    .dataframe tbody tr th {\n",
       "        vertical-align: top;\n",
       "    }\n",
       "\n",
       "    .dataframe thead th {\n",
       "        text-align: right;\n",
       "    }\n",
       "</style>\n",
       "<table border=\"1\" class=\"dataframe\">\n",
       "  <thead>\n",
       "    <tr style=\"text-align: right;\">\n",
       "      <th></th>\n",
       "      <th>Year</th>\n",
       "      <th>Month</th>\n",
       "      <th>DayofMonth</th>\n",
       "      <th>DayOfWeek</th>\n",
       "      <th>OriginAirportID</th>\n",
       "      <th>DestAirportID</th>\n",
       "      <th>CRSDepTime</th>\n",
       "      <th>DepDelay</th>\n",
       "      <th>DepDel15</th>\n",
       "      <th>CRSArrTime</th>\n",
       "      <th>ArrDelay</th>\n",
       "      <th>ArrDel15</th>\n",
       "      <th>Cancelled</th>\n",
       "    </tr>\n",
       "  </thead>\n",
       "  <tbody>\n",
       "    <tr>\n",
       "      <th>count</th>\n",
       "      <td>97072.0</td>\n",
       "      <td>97072.000000</td>\n",
       "      <td>97072.000000</td>\n",
       "      <td>97072.000000</td>\n",
       "      <td>97072.000000</td>\n",
       "      <td>97072.000000</td>\n",
       "      <td>97072.000000</td>\n",
       "      <td>97072.000000</td>\n",
       "      <td>97072.000000</td>\n",
       "      <td>97072.000000</td>\n",
       "      <td>97072.000000</td>\n",
       "      <td>97072.000000</td>\n",
       "      <td>97072.000000</td>\n",
       "    </tr>\n",
       "    <tr>\n",
       "      <th>mean</th>\n",
       "      <td>2013.0</td>\n",
       "      <td>6.998465</td>\n",
       "      <td>15.839016</td>\n",
       "      <td>3.888011</td>\n",
       "      <td>12769.995169</td>\n",
       "      <td>12758.046821</td>\n",
       "      <td>1310.985217</td>\n",
       "      <td>3.129172</td>\n",
       "      <td>0.108806</td>\n",
       "      <td>1492.751586</td>\n",
       "      <td>3.350369</td>\n",
       "      <td>0.101533</td>\n",
       "      <td>0.000701</td>\n",
       "    </tr>\n",
       "    <tr>\n",
       "      <th>std</th>\n",
       "      <td>0.0</td>\n",
       "      <td>1.971390</td>\n",
       "      <td>8.778397</td>\n",
       "      <td>1.975094</td>\n",
       "      <td>1512.167058</td>\n",
       "      <td>1526.501442</td>\n",
       "      <td>461.586914</td>\n",
       "      <td>7.407395</td>\n",
       "      <td>0.311397</td>\n",
       "      <td>481.135549</td>\n",
       "      <td>7.352769</td>\n",
       "      <td>0.302035</td>\n",
       "      <td>0.026458</td>\n",
       "    </tr>\n",
       "    <tr>\n",
       "      <th>min</th>\n",
       "      <td>2013.0</td>\n",
       "      <td>4.000000</td>\n",
       "      <td>1.000000</td>\n",
       "      <td>1.000000</td>\n",
       "      <td>10140.000000</td>\n",
       "      <td>10140.000000</td>\n",
       "      <td>1.000000</td>\n",
       "      <td>-6.000000</td>\n",
       "      <td>0.000000</td>\n",
       "      <td>1.000000</td>\n",
       "      <td>-6.000000</td>\n",
       "      <td>0.000000</td>\n",
       "      <td>0.000000</td>\n",
       "    </tr>\n",
       "    <tr>\n",
       "      <th>25%</th>\n",
       "      <td>2013.0</td>\n",
       "      <td>5.000000</td>\n",
       "      <td>8.000000</td>\n",
       "      <td>2.000000</td>\n",
       "      <td>11292.000000</td>\n",
       "      <td>11292.000000</td>\n",
       "      <td>920.000000</td>\n",
       "      <td>-3.000000</td>\n",
       "      <td>0.000000</td>\n",
       "      <td>1118.000000</td>\n",
       "      <td>-3.000000</td>\n",
       "      <td>0.000000</td>\n",
       "      <td>0.000000</td>\n",
       "    </tr>\n",
       "    <tr>\n",
       "      <th>50%</th>\n",
       "      <td>2013.0</td>\n",
       "      <td>7.000000</td>\n",
       "      <td>16.000000</td>\n",
       "      <td>4.000000</td>\n",
       "      <td>12892.000000</td>\n",
       "      <td>12892.000000</td>\n",
       "      <td>1305.000000</td>\n",
       "      <td>0.000000</td>\n",
       "      <td>0.000000</td>\n",
       "      <td>1515.000000</td>\n",
       "      <td>2.000000</td>\n",
       "      <td>0.000000</td>\n",
       "      <td>0.000000</td>\n",
       "    </tr>\n",
       "    <tr>\n",
       "      <th>75%</th>\n",
       "      <td>2013.0</td>\n",
       "      <td>9.000000</td>\n",
       "      <td>23.000000</td>\n",
       "      <td>5.000000</td>\n",
       "      <td>14100.000000</td>\n",
       "      <td>14100.000000</td>\n",
       "      <td>1705.000000</td>\n",
       "      <td>8.000000</td>\n",
       "      <td>0.000000</td>\n",
       "      <td>1901.000000</td>\n",
       "      <td>8.000000</td>\n",
       "      <td>0.000000</td>\n",
       "      <td>0.000000</td>\n",
       "    </tr>\n",
       "    <tr>\n",
       "      <th>max</th>\n",
       "      <td>2013.0</td>\n",
       "      <td>10.000000</td>\n",
       "      <td>31.000000</td>\n",
       "      <td>7.000000</td>\n",
       "      <td>15376.000000</td>\n",
       "      <td>15376.000000</td>\n",
       "      <td>2359.000000</td>\n",
       "      <td>23.000000</td>\n",
       "      <td>1.000000</td>\n",
       "      <td>2359.000000</td>\n",
       "      <td>23.000000</td>\n",
       "      <td>1.000000</td>\n",
       "      <td>1.000000</td>\n",
       "    </tr>\n",
       "  </tbody>\n",
       "</table>\n",
       "</div>"
      ],
      "text/plain": [
       "          Year         Month    DayofMonth     DayOfWeek  OriginAirportID  \\\n",
       "count  97072.0  97072.000000  97072.000000  97072.000000     97072.000000   \n",
       "mean    2013.0      6.998465     15.839016      3.888011     12769.995169   \n",
       "std        0.0      1.971390      8.778397      1.975094      1512.167058   \n",
       "min     2013.0      4.000000      1.000000      1.000000     10140.000000   \n",
       "25%     2013.0      5.000000      8.000000      2.000000     11292.000000   \n",
       "50%     2013.0      7.000000     16.000000      4.000000     12892.000000   \n",
       "75%     2013.0      9.000000     23.000000      5.000000     14100.000000   \n",
       "max     2013.0     10.000000     31.000000      7.000000     15376.000000   \n",
       "\n",
       "       DestAirportID    CRSDepTime      DepDelay      DepDel15    CRSArrTime  \\\n",
       "count   97072.000000  97072.000000  97072.000000  97072.000000  97072.000000   \n",
       "mean    12758.046821   1310.985217      3.129172      0.108806   1492.751586   \n",
       "std      1526.501442    461.586914      7.407395      0.311397    481.135549   \n",
       "min     10140.000000      1.000000     -6.000000      0.000000      1.000000   \n",
       "25%     11292.000000    920.000000     -3.000000      0.000000   1118.000000   \n",
       "50%     12892.000000   1305.000000      0.000000      0.000000   1515.000000   \n",
       "75%     14100.000000   1705.000000      8.000000      0.000000   1901.000000   \n",
       "max     15376.000000   2359.000000     23.000000      1.000000   2359.000000   \n",
       "\n",
       "           ArrDelay      ArrDel15     Cancelled  \n",
       "count  97072.000000  97072.000000  97072.000000  \n",
       "mean       3.350369      0.101533      0.000701  \n",
       "std        7.352769      0.302035      0.026458  \n",
       "min       -6.000000      0.000000      0.000000  \n",
       "25%       -3.000000      0.000000      0.000000  \n",
       "50%        2.000000      0.000000      0.000000  \n",
       "75%        8.000000      0.000000      0.000000  \n",
       "max       23.000000      1.000000      1.000000  "
      ]
     },
     "execution_count": 386,
     "metadata": {},
     "output_type": "execute_result"
    }
   ],
   "source": [
    "#It seems fair to trim both columns in the 85th quantile and in the DepDelay 10th quantile\n",
    "col = ['DepDelay', 'ArrDelay']\n",
    "for column in col:\n",
    "    flights = flights[flights[column] <= 23] \n",
    "    flights = flights[flights[column] > -7]\n",
    "  #  flights= flights + df_flights\n",
    "flights.describe()"
   ]
  },
  {
   "cell_type": "markdown",
   "metadata": {},
   "source": [
    "## Now that I had trim the data, I'll plot the box plot again to see it's distribuition"
   ]
  },
  {
   "cell_type": "code",
   "execution_count": 387,
   "metadata": {},
   "outputs": [
    {
     "data": {
      "image/png": "[encoded data removed]",
      "text/plain": [
       "<Figure size 1080x360 with 2 Axes>"
      ]
     },
     "metadata": {
      "needs_background": "light"
     },
     "output_type": "display_data"
    }
   ],
   "source": [
    "fig, ax = plt.subplots(1,2, figsize=(15,5))\n",
    "\n",
    "sns.boxplot(x=flights['ArrDelay'], ax=ax[0])\n",
    "sns.boxplot(x=flights['DepDelay'], ax=ax[1])\n",
    "plt.show()"
   ]
  },
  {
   "cell_type": "code",
   "execution_count": 388,
   "metadata": {},
   "outputs": [
    {
     "data": {
      "text/html": [
       "<div>\n",
       "<style scoped>\n",
       "    .dataframe tbody tr th:only-of-type {\n",
       "        vertical-align: middle;\n",
       "    }\n",
       "\n",
       "    .dataframe tbody tr th {\n",
       "        vertical-align: top;\n",
       "    }\n",
       "\n",
       "    .dataframe thead th {\n",
       "        text-align: right;\n",
       "    }\n",
       "</style>\n",
       "<table border=\"1\" class=\"dataframe\">\n",
       "  <thead>\n",
       "    <tr style=\"text-align: right;\">\n",
       "      <th></th>\n",
       "      <th>Year</th>\n",
       "      <th>Month</th>\n",
       "      <th>DayofMonth</th>\n",
       "      <th>DayOfWeek</th>\n",
       "      <th>OriginAirportID</th>\n",
       "      <th>DestAirportID</th>\n",
       "      <th>CRSDepTime</th>\n",
       "      <th>DepDelay</th>\n",
       "      <th>DepDel15</th>\n",
       "      <th>CRSArrTime</th>\n",
       "      <th>ArrDelay</th>\n",
       "      <th>ArrDel15</th>\n",
       "      <th>Cancelled</th>\n",
       "    </tr>\n",
       "  </thead>\n",
       "  <tbody>\n",
       "    <tr>\n",
       "      <th>count</th>\n",
       "      <td>97072.0</td>\n",
       "      <td>97072.000000</td>\n",
       "      <td>97072.000000</td>\n",
       "      <td>97072.000000</td>\n",
       "      <td>97072.000000</td>\n",
       "      <td>97072.000000</td>\n",
       "      <td>97072.000000</td>\n",
       "      <td>97072.000000</td>\n",
       "      <td>97072.000000</td>\n",
       "      <td>97072.000000</td>\n",
       "      <td>97072.000000</td>\n",
       "      <td>97072.000000</td>\n",
       "      <td>97072.000000</td>\n",
       "    </tr>\n",
       "    <tr>\n",
       "      <th>mean</th>\n",
       "      <td>2013.0</td>\n",
       "      <td>6.998465</td>\n",
       "      <td>15.839016</td>\n",
       "      <td>3.888011</td>\n",
       "      <td>12769.995169</td>\n",
       "      <td>12758.046821</td>\n",
       "      <td>1310.985217</td>\n",
       "      <td>3.129172</td>\n",
       "      <td>0.108806</td>\n",
       "      <td>1492.751586</td>\n",
       "      <td>3.350369</td>\n",
       "      <td>0.101533</td>\n",
       "      <td>0.000701</td>\n",
       "    </tr>\n",
       "    <tr>\n",
       "      <th>std</th>\n",
       "      <td>0.0</td>\n",
       "      <td>1.971390</td>\n",
       "      <td>8.778397</td>\n",
       "      <td>1.975094</td>\n",
       "      <td>1512.167058</td>\n",
       "      <td>1526.501442</td>\n",
       "      <td>461.586914</td>\n",
       "      <td>7.407395</td>\n",
       "      <td>0.311397</td>\n",
       "      <td>481.135549</td>\n",
       "      <td>7.352769</td>\n",
       "      <td>0.302035</td>\n",
       "      <td>0.026458</td>\n",
       "    </tr>\n",
       "    <tr>\n",
       "      <th>min</th>\n",
       "      <td>2013.0</td>\n",
       "      <td>4.000000</td>\n",
       "      <td>1.000000</td>\n",
       "      <td>1.000000</td>\n",
       "      <td>10140.000000</td>\n",
       "      <td>10140.000000</td>\n",
       "      <td>1.000000</td>\n",
       "      <td>-6.000000</td>\n",
       "      <td>0.000000</td>\n",
       "      <td>1.000000</td>\n",
       "      <td>-6.000000</td>\n",
       "      <td>0.000000</td>\n",
       "      <td>0.000000</td>\n",
       "    </tr>\n",
       "    <tr>\n",
       "      <th>25%</th>\n",
       "      <td>2013.0</td>\n",
       "      <td>5.000000</td>\n",
       "      <td>8.000000</td>\n",
       "      <td>2.000000</td>\n",
       "      <td>11292.000000</td>\n",
       "      <td>11292.000000</td>\n",
       "      <td>920.000000</td>\n",
       "      <td>-3.000000</td>\n",
       "      <td>0.000000</td>\n",
       "      <td>1118.000000</td>\n",
       "      <td>-3.000000</td>\n",
       "      <td>0.000000</td>\n",
       "      <td>0.000000</td>\n",
       "    </tr>\n",
       "    <tr>\n",
       "      <th>50%</th>\n",
       "      <td>2013.0</td>\n",
       "      <td>7.000000</td>\n",
       "      <td>16.000000</td>\n",
       "      <td>4.000000</td>\n",
       "      <td>12892.000000</td>\n",
       "      <td>12892.000000</td>\n",
       "      <td>1305.000000</td>\n",
       "      <td>0.000000</td>\n",
       "      <td>0.000000</td>\n",
       "      <td>1515.000000</td>\n",
       "      <td>2.000000</td>\n",
       "      <td>0.000000</td>\n",
       "      <td>0.000000</td>\n",
       "    </tr>\n",
       "    <tr>\n",
       "      <th>75%</th>\n",
       "      <td>2013.0</td>\n",
       "      <td>9.000000</td>\n",
       "      <td>23.000000</td>\n",
       "      <td>5.000000</td>\n",
       "      <td>14100.000000</td>\n",
       "      <td>14100.000000</td>\n",
       "      <td>1705.000000</td>\n",
       "      <td>8.000000</td>\n",
       "      <td>0.000000</td>\n",
       "      <td>1901.000000</td>\n",
       "      <td>8.000000</td>\n",
       "      <td>0.000000</td>\n",
       "      <td>0.000000</td>\n",
       "    </tr>\n",
       "    <tr>\n",
       "      <th>max</th>\n",
       "      <td>2013.0</td>\n",
       "      <td>10.000000</td>\n",
       "      <td>31.000000</td>\n",
       "      <td>7.000000</td>\n",
       "      <td>15376.000000</td>\n",
       "      <td>15376.000000</td>\n",
       "      <td>2359.000000</td>\n",
       "      <td>23.000000</td>\n",
       "      <td>1.000000</td>\n",
       "      <td>2359.000000</td>\n",
       "      <td>23.000000</td>\n",
       "      <td>1.000000</td>\n",
       "      <td>1.000000</td>\n",
       "    </tr>\n",
       "  </tbody>\n",
       "</table>\n",
       "</div>"
      ],
      "text/plain": [
       "          Year         Month    DayofMonth     DayOfWeek  OriginAirportID  \\\n",
       "count  97072.0  97072.000000  97072.000000  97072.000000     97072.000000   \n",
       "mean    2013.0      6.998465     15.839016      3.888011     12769.995169   \n",
       "std        0.0      1.971390      8.778397      1.975094      1512.167058   \n",
       "min     2013.0      4.000000      1.000000      1.000000     10140.000000   \n",
       "25%     2013.0      5.000000      8.000000      2.000000     11292.000000   \n",
       "50%     2013.0      7.000000     16.000000      4.000000     12892.000000   \n",
       "75%     2013.0      9.000000     23.000000      5.000000     14100.000000   \n",
       "max     2013.0     10.000000     31.000000      7.000000     15376.000000   \n",
       "\n",
       "       DestAirportID    CRSDepTime      DepDelay      DepDel15    CRSArrTime  \\\n",
       "count   97072.000000  97072.000000  97072.000000  97072.000000  97072.000000   \n",
       "mean    12758.046821   1310.985217      3.129172      0.108806   1492.751586   \n",
       "std      1526.501442    461.586914      7.407395      0.311397    481.135549   \n",
       "min     10140.000000      1.000000     -6.000000      0.000000      1.000000   \n",
       "25%     11292.000000    920.000000     -3.000000      0.000000   1118.000000   \n",
       "50%     12892.000000   1305.000000      0.000000      0.000000   1515.000000   \n",
       "75%     14100.000000   1705.000000      8.000000      0.000000   1901.000000   \n",
       "max     15376.000000   2359.000000     23.000000      1.000000   2359.000000   \n",
       "\n",
       "           ArrDelay      ArrDel15     Cancelled  \n",
       "count  97072.000000  97072.000000  97072.000000  \n",
       "mean       3.350369      0.101533      0.000701  \n",
       "std        7.352769      0.302035      0.026458  \n",
       "min       -6.000000      0.000000      0.000000  \n",
       "25%       -3.000000      0.000000      0.000000  \n",
       "50%        2.000000      0.000000      0.000000  \n",
       "75%        8.000000      0.000000      0.000000  \n",
       "max       23.000000      1.000000      1.000000  "
      ]
     },
     "execution_count": 388,
     "metadata": {},
     "output_type": "execute_result"
    }
   ],
   "source": [
    "flights.describe()"
   ]
  },
  {
   "cell_type": "markdown",
   "metadata": {},
   "source": [
    "Now that the cleaning process is done, we proceed to analyse the dataset."
   ]
  },
  {
   "cell_type": "markdown",
   "metadata": {},
   "source": [
    "## Analyzing the dataset"
   ]
  },
  {
   "cell_type": "markdown",
   "metadata": {},
   "source": [
    "The point here is to answer the following questions:\n",
    "\n",
    "- *What are the average (mean) departure and arrival delays?*\n",
    "- *How do the carriers compare in terms of arrival delay performance?*\n",
    "- *Are some days of the week more prone to arrival days than others?*\n",
    "- *Which departure airport has the highest average departure delay?*\n",
    "- *Do **late** departures tend to result in longer arrival delays than on-time departures?*\n",
    "- *Which route (from origin airport to destination airport) has the most **late** arrivals?*\n",
    "- *Which route has the highest average arrival delay?*\n",
    "\n",
    "So let's begin!"
   ]
  },
  {
   "cell_type": "markdown",
   "metadata": {},
   "source": [
    "## 1 - What are the average (mean) departure and arrival delays?"
   ]
  },
  {
   "cell_type": "markdown",
   "metadata": {},
   "source": [
    "That's a simple question we just have to use the **mean** method and apply it in the desired columns."
   ]
  },
  {
   "cell_type": "code",
   "execution_count": 389,
   "metadata": {},
   "outputs": [
    {
     "data": {
      "text/plain": [
       "DepDelay    3.129172\n",
       "ArrDelay    3.350369\n",
       "dtype: float64"
      ]
     },
     "execution_count": 389,
     "metadata": {},
     "output_type": "execute_result"
    }
   ],
   "source": [
    "# col=['DepDelay', 'ArrDelay']\n",
    "flights[col].mean()\n"
   ]
  },
  {
   "cell_type": "markdown",
   "metadata": {},
   "source": [
    "## 2 - How do the carriers compare in terms of arrival delay performance?"
   ]
  },
  {
   "cell_type": "markdown",
   "metadata": {},
   "source": [
    "To see how carries perform in arrival delay, I'll choose to plot boxplots aggregated by the carries"
   ]
  },
  {
   "cell_type": "code",
   "execution_count": 390,
   "metadata": {},
   "outputs": [
    {
     "data": {
      "text/plain": [
       "97072"
      ]
     },
     "execution_count": 390,
     "metadata": {},
     "output_type": "execute_result"
    }
   ],
   "source": [
    "flights[\"Carrier\"].count()"
   ]
  },
  {
   "cell_type": "code",
   "execution_count": 391,
   "metadata": {},
   "outputs": [
    {
     "data": {
      "image/png": "[encoded data removed]",
      "text/plain": [
       "<Figure size 1080x648 with 2 Axes>"
      ]
     },
     "metadata": {
      "needs_background": "light"
     },
     "output_type": "display_data"
    }
   ],
   "source": [
    "fig, ax = plt.subplots(2,1,figsize=(15,9))\n",
    "sns.boxplot(x=\"Carrier\", y=\"ArrDelay\", data=flights, ax=ax[0])\n",
    "sns.boxplot(x=\"Carrier\", y=\"DepDelay\", data=flights, ax=ax[1])\n",
    "plt.show()"
   ]
  },
  {
   "cell_type": "markdown",
   "metadata": {},
   "source": [
    "## 3 - Are some days of the week more prone to arrival days than others?"
   ]
  },
  {
   "cell_type": "markdown",
   "metadata": {},
   "source": [
    "The approach here is to plot a chart where it'll possible to check the **amount of times** a day of the week had arrivals. To help visualize it better, I decided to choose an **barplot visualization**. The dataset refers to days of the week as numbers that begins with 1 being monday and 7 being sunday. "
   ]
  },
  {
   "cell_type": "code",
   "execution_count": 392,
   "metadata": {},
   "outputs": [
    {
     "data": {
      "image/png": "[encoded data removed]",
      "text/plain": [
       "<Figure size 360x360 with 1 Axes>"
      ]
     },
     "metadata": {
      "needs_background": "light"
     },
     "output_type": "display_data"
    }
   ],
   "source": [
    "sns.catplot(x=\"DayOfWeek\", kind=\"count\",  data = flights)\n",
    "plt.show()"
   ]
  },
  {
   "cell_type": "markdown",
   "metadata": {},
   "source": [
    "## 4 - Which departure airport has the highest average departure delay?"
   ]
  },
  {
   "cell_type": "markdown",
   "metadata": {},
   "source": [
    "To this question I'll plot a bar chart showing the departure delay per Airport. To do this, I'll create a new dataframe containing only **DepDelay** and **OriginAirportName**. After that, I'll group the df by **OriginAirportName** and calculate the **mean** value. \n",
    "\n",
    "Since there are many Airports name, I'll order by **descending values** and show only the **top5** in departure delay."
   ]
  },
  {
   "cell_type": "code",
   "execution_count": 393,
   "metadata": {},
   "outputs": [],
   "source": [
    "flights_group_airport_delayed = flights[[\"DepDelay\",\"OriginAirportName\"]]\n",
    "flights_group_airport_delayed = flights_group_airport_delayed.groupby([\"OriginAirportName\"])[\"DepDelay\"].mean()\n",
    "df_flights_group_airport_delayed = pd.DataFrame(flights_group_airport_delayed)\n",
    "df_flights_group_airport_delayed.reset_index(inplace= True)\n",
    "df_flights_group_airport_delayed = df_flights_group_airport_delayed.sort_values(by = [\"DepDelay\"], ascending=False)"
   ]
  },
  {
   "cell_type": "code",
   "execution_count": 394,
   "metadata": {},
   "outputs": [
    {
     "data": {
      "image/png": "[encoded data removed]",
      "text/plain": [
       "<Figure size 1080x648 with 1 Axes>"
      ]
     },
     "metadata": {
      "needs_background": "light"
     },
     "output_type": "display_data"
    }
   ],
   "source": [
    "fig, ax = plt.subplots(figsize=(15,9))\n",
    "g = sns.barplot(x=\"OriginAirportName\", y=\"DepDelay\", data = df_flights_group_airport_delayed.head(5), ax=ax)\n",
    "g.set_xticklabels(g.get_xticklabels(), rotation=45, horizontalalignment = 'right')\n",
    "plt.show()"
   ]
  },
  {
   "cell_type": "markdown",
   "metadata": {},
   "source": [
    "## 5 - Do **late** departures tend to result in longer arrival delays than on-time departures?"
   ]
  },
  {
   "cell_type": "markdown",
   "metadata": {},
   "source": [
    "To answer this question I'll separate the arrival times in **two**: the ones that had **departure late** and the other that **don't**. The choosen metric here will be **median** since I don't want to one huge arrival delay or departure delay impact in my analysis. "
   ]
  },
  {
   "cell_type": "code",
   "execution_count": 395,
   "metadata": {},
   "outputs": [],
   "source": [
    "flights_OnTime = flights[flights[\"DepDelay\"] < 15]\n",
    "flights_OnTime_median = flights_OnTime[\"ArrDelay\"].median()\n",
    "\n",
    "flights_delayed = flights[flights[\"DepDelay\"] >= 15]\n",
    "flights_delayed_median = flights_delayed[\"ArrDelay\"].median()"
   ]
  },
  {
   "cell_type": "code",
   "execution_count": 396,
   "metadata": {},
   "outputs": [
    {
     "name": "stdout",
     "output_type": "stream",
     "text": [
      "Flights On Time median: 1\n",
      "Flights Delayed median: 11\n"
     ]
    }
   ],
   "source": [
    "print(\"Flights On Time median: %d\" % (flights_OnTime_median))\n",
    "print(\"Flights Delayed median: %d\" % (flights_delayed_median))"
   ]
  },
  {
   "cell_type": "markdown",
   "metadata": {},
   "source": [
    "## 6 - Which route (from origin airport to destination airport) has the most **late** arrivals?"
   ]
  },
  {
   "cell_type": "markdown",
   "metadata": {},
   "source": [
    "To this question I'll use the **flights_delayed dataframe** build in the previous question, and then **aggregate** the flights by **routes** and **count** them.\n",
    "\n",
    "To aggregate by routes I'll simple gather the columns: **OriginAirportName** and **DestAirportName** "
   ]
  },
  {
   "cell_type": "code",
   "execution_count": 397,
   "metadata": {},
   "outputs": [
    {
     "name": "stderr",
     "output_type": "stream",
     "text": [
      "C:\\Users\\lucas\\Anaconda3\\lib\\site-packages\\ipykernel_launcher.py:3: SettingWithCopyWarning: \n",
      "A value is trying to be set on a copy of a slice from a DataFrame.\n",
      "Try using .loc[row_indexer,col_indexer] = value instead\n",
      "\n",
      "See the caveats in the documentation: https://pandas.pydata.org/pandas-docs/stable/user_guide/indexing.html#returning-a-view-versus-a-copy\n",
      "  This is separate from the ipykernel package so we can avoid doing imports until\n"
     ]
    }
   ],
   "source": [
    "flights_ArriveDelayed = flights[flights[\"ArrDel15\"] >= 1]\n",
    "\n",
    "flights_ArriveDelayed[\"Routes\"] = flights[\"OriginAirportName\"] + \" -> \" + flights[\"DestAirportName\"]\n",
    "\n",
    "flights_ArriveDelayed_aggRoutes = flights_ArriveDelayed.groupby(\"Routes\")[\"ArrDel15\"].sum()"
   ]
  },
  {
   "cell_type": "code",
   "execution_count": 398,
   "metadata": {},
   "outputs": [
    {
     "data": {
      "text/plain": [
       "Routes\n",
       "Albuquerque International Sunport -> Chicago Midway International            3.0\n",
       "Albuquerque International Sunport -> Dallas Love Field                       5.0\n",
       "Albuquerque International Sunport -> Dallas/Fort Worth International         5.0\n",
       "Albuquerque International Sunport -> Denver International                    7.0\n",
       "Albuquerque International Sunport -> George Bush Intercontinental/Houston    2.0\n",
       "                                                                            ... \n",
       "William P Hobby -> Ronald Reagan Washington National                         1.0\n",
       "William P Hobby -> San Antonio International                                 3.0\n",
       "William P Hobby -> San Diego International                                   5.0\n",
       "William P Hobby -> Tampa International                                       5.0\n",
       "William P Hobby -> Will Rogers World                                         2.0\n",
       "Name: ArrDel15, Length: 1993, dtype: float64"
      ]
     },
     "execution_count": 398,
     "metadata": {},
     "output_type": "execute_result"
    }
   ],
   "source": [
    "flights_ArriveDelayed_aggRoutes"
   ]
  },
  {
   "cell_type": "code",
   "execution_count": 399,
   "metadata": {},
   "outputs": [],
   "source": [
    "flights_ArriveDelayed_aggRoutes= pd.DataFrame(flights_ArriveDelayed_aggRoutes)\n",
    "flights_ArriveDelayed_aggRoutes.rename(columns={\"ArrDel15\":\"Count\"}, inplace = True)\n",
    "flights_ArriveDelayed_aggRoutes.sort_values(by=[\"Count\"], ascending = False, inplace = True)\n",
    "flights_ArriveDelayed_aggRoutes.reset_index(inplace=True)"
   ]
  },
  {
   "cell_type": "code",
   "execution_count": 400,
   "metadata": {},
   "outputs": [
    {
     "data": {
      "text/html": [
       "<div>\n",
       "<style scoped>\n",
       "    .dataframe tbody tr th:only-of-type {\n",
       "        vertical-align: middle;\n",
       "    }\n",
       "\n",
       "    .dataframe tbody tr th {\n",
       "        vertical-align: top;\n",
       "    }\n",
       "\n",
       "    .dataframe thead th {\n",
       "        text-align: right;\n",
       "    }\n",
       "</style>\n",
       "<table border=\"1\" class=\"dataframe\">\n",
       "  <thead>\n",
       "    <tr style=\"text-align: right;\">\n",
       "      <th></th>\n",
       "      <th>Routes</th>\n",
       "      <th>Count</th>\n",
       "    </tr>\n",
       "  </thead>\n",
       "  <tbody>\n",
       "    <tr>\n",
       "      <th>0</th>\n",
       "      <td>Los Angeles International -&gt; McCarran Internat...</td>\n",
       "      <td>37.0</td>\n",
       "    </tr>\n",
       "    <tr>\n",
       "      <th>1</th>\n",
       "      <td>San Francisco International -&gt; Los Angeles Int...</td>\n",
       "      <td>37.0</td>\n",
       "    </tr>\n",
       "    <tr>\n",
       "      <th>2</th>\n",
       "      <td>Los Angeles International -&gt; San Francisco Int...</td>\n",
       "      <td>35.0</td>\n",
       "    </tr>\n",
       "    <tr>\n",
       "      <th>3</th>\n",
       "      <td>Denver International -&gt; Phoenix Sky Harbor Int...</td>\n",
       "      <td>33.0</td>\n",
       "    </tr>\n",
       "    <tr>\n",
       "      <th>4</th>\n",
       "      <td>Dallas/Fort Worth International -&gt; Los Angeles...</td>\n",
       "      <td>27.0</td>\n",
       "    </tr>\n",
       "    <tr>\n",
       "      <th>...</th>\n",
       "      <td>...</td>\n",
       "      <td>...</td>\n",
       "    </tr>\n",
       "    <tr>\n",
       "      <th>1988</th>\n",
       "      <td>Detroit Metro Wayne County -&gt; Cincinnati/North...</td>\n",
       "      <td>1.0</td>\n",
       "    </tr>\n",
       "    <tr>\n",
       "      <th>1989</th>\n",
       "      <td>Newark Liberty International -&gt; John Wayne Air...</td>\n",
       "      <td>1.0</td>\n",
       "    </tr>\n",
       "    <tr>\n",
       "      <th>1990</th>\n",
       "      <td>Ronald Reagan Washington National -&gt; Cleveland...</td>\n",
       "      <td>1.0</td>\n",
       "    </tr>\n",
       "    <tr>\n",
       "      <th>1991</th>\n",
       "      <td>Newark Liberty International -&gt; Louisville Int...</td>\n",
       "      <td>1.0</td>\n",
       "    </tr>\n",
       "    <tr>\n",
       "      <th>1992</th>\n",
       "      <td>General Mitchell International -&gt; Cleveland-Ho...</td>\n",
       "      <td>1.0</td>\n",
       "    </tr>\n",
       "  </tbody>\n",
       "</table>\n",
       "<p>1993 rows × 2 columns</p>\n",
       "</div>"
      ],
      "text/plain": [
       "                                                 Routes  Count\n",
       "0     Los Angeles International -> McCarran Internat...   37.0\n",
       "1     San Francisco International -> Los Angeles Int...   37.0\n",
       "2     Los Angeles International -> San Francisco Int...   35.0\n",
       "3     Denver International -> Phoenix Sky Harbor Int...   33.0\n",
       "4     Dallas/Fort Worth International -> Los Angeles...   27.0\n",
       "...                                                 ...    ...\n",
       "1988  Detroit Metro Wayne County -> Cincinnati/North...    1.0\n",
       "1989  Newark Liberty International -> John Wayne Air...    1.0\n",
       "1990  Ronald Reagan Washington National -> Cleveland...    1.0\n",
       "1991  Newark Liberty International -> Louisville Int...    1.0\n",
       "1992  General Mitchell International -> Cleveland-Ho...    1.0\n",
       "\n",
       "[1993 rows x 2 columns]"
      ]
     },
     "execution_count": 400,
     "metadata": {},
     "output_type": "execute_result"
    }
   ],
   "source": [
    "flights_ArriveDelayed_aggRoutes"
   ]
  },
  {
   "cell_type": "code",
   "execution_count": 401,
   "metadata": {},
   "outputs": [
    {
     "data": {
      "image/png": "[encoded data removed]",
      "text/plain": [
       "<Figure size 1080x648 with 1 Axes>"
      ]
     },
     "metadata": {
      "needs_background": "light"
     },
     "output_type": "display_data"
    }
   ],
   "source": [
    "fig, ax = plt.subplots(figsize=(15,9))\n",
    "chart_routes = sns.barplot(x=\"Routes\", y=\"Count\", data=flights_ArriveDelayed_aggRoutes.head(10), ax =ax)\n",
    "chart_routes.set_xticklabels(chart_routes.get_xticklabels(), rotation=45, horizontalalignment = 'right')\n",
    "plt.show()"
   ]
  },
  {
   "cell_type": "markdown",
   "metadata": {},
   "source": [
    "## 7 - Which route has the highest average arrival delay?"
   ]
  },
  {
   "cell_type": "code",
   "execution_count": 402,
   "metadata": {},
   "outputs": [],
   "source": [
    "df_flights_ArriveDelayed = pd.DataFrame(flights_ArriveDelayed)\n",
    "flights_ArriveDelayed_groupRoute = df_flights_ArriveDelayed.groupby(\"Routes\")[\"ArrDelay\"].mean()\n",
    "df_flights_ArriveDelayed_groupRoute = pd.DataFrame(flights_ArriveDelayed_groupRoute).reset_index().sort_values('ArrDelay', ascending = False)"
   ]
  },
  {
   "cell_type": "code",
   "execution_count": 406,
   "metadata": {},
   "outputs": [
    {
     "data": {
      "text/html": [
       "<div>\n",
       "<style scoped>\n",
       "    .dataframe tbody tr th:only-of-type {\n",
       "        vertical-align: middle;\n",
       "    }\n",
       "\n",
       "    .dataframe tbody tr th {\n",
       "        vertical-align: top;\n",
       "    }\n",
       "\n",
       "    .dataframe thead th {\n",
       "        text-align: right;\n",
       "    }\n",
       "</style>\n",
       "<table border=\"1\" class=\"dataframe\">\n",
       "  <thead>\n",
       "    <tr style=\"text-align: right;\">\n",
       "      <th></th>\n",
       "      <th>Routes</th>\n",
       "      <th>ArrDelay</th>\n",
       "    </tr>\n",
       "  </thead>\n",
       "  <tbody>\n",
       "    <tr>\n",
       "      <th>1886</th>\n",
       "      <td>Ted Stevens Anchorage International -&gt; Long Be...</td>\n",
       "      <td>23.0</td>\n",
       "    </tr>\n",
       "    <tr>\n",
       "      <th>1979</th>\n",
       "      <td>William P Hobby -&gt; Los Angeles International</td>\n",
       "      <td>23.0</td>\n",
       "    </tr>\n",
       "    <tr>\n",
       "      <th>1128</th>\n",
       "      <td>Memphis International -&gt; Louis Armstrong New O...</td>\n",
       "      <td>23.0</td>\n",
       "    </tr>\n",
       "    <tr>\n",
       "      <th>113</th>\n",
       "      <td>Bradley International -&gt; Palm Beach International</td>\n",
       "      <td>23.0</td>\n",
       "    </tr>\n",
       "    <tr>\n",
       "      <th>1984</th>\n",
       "      <td>William P Hobby -&gt; Newark Liberty International</td>\n",
       "      <td>23.0</td>\n",
       "    </tr>\n",
       "  </tbody>\n",
       "</table>\n",
       "</div>"
      ],
      "text/plain": [
       "                                                 Routes  ArrDelay\n",
       "1886  Ted Stevens Anchorage International -> Long Be...      23.0\n",
       "1979       William P Hobby -> Los Angeles International      23.0\n",
       "1128  Memphis International -> Louis Armstrong New O...      23.0\n",
       "113   Bradley International -> Palm Beach International      23.0\n",
       "1984    William P Hobby -> Newark Liberty International      23.0"
      ]
     },
     "execution_count": 406,
     "metadata": {},
     "output_type": "execute_result"
    }
   ],
   "source": [
    "df_flights_ArriveDelayed_groupRoute.head(5)"
   ]
  },
  {
   "cell_type": "code",
   "execution_count": null,
   "metadata": {},
   "outputs": [],
   "source": []
  }
 ],
 "metadata": {
  "kernelspec": {
   "display_name": "Python 3",
   "language": "python",
   "name": "python3"
  },
  "language_info": {
   "codemirror_mode": {
    "name": "ipython",
    "version": 3
   },
   "file_extension": ".py",
   "mimetype": "text/x-python",
   "name": "python",
   "nbconvert_exporter": "python",
   "pygments_lexer": "ipython3",
   "version": "3.7.6"
  }
 },
 "nbformat": 4,
 "nbformat_minor": 4
}
